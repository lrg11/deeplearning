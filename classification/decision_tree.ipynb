{
 "cells": [
  {
   "cell_type": "code",
   "execution_count": null,
   "id": "dd116d40-15fe-4059-a4d7-2e9fa4fb8a04",
   "metadata": {},
   "outputs": [],
   "source": [
    "from sklearn.feature_extraction import DictVectorizer\n",
    "from sklearn.feature_extraction.text import TfidfVectorizer, CountVectorizer\n",
    "from sklearn import tree\n",
    "from sklearn import preprocessing\n",
    "import csv"
   ]
  },
  {
   "cell_type": "code",
   "execution_count": null,
   "id": "e9d1b145-6a94-44b9-84e8-1cf3b7fac06c",
   "metadata": {},
   "outputs": [],
   "source": [
    "dtree = open(r'AllElectronics.csv','r')\n",
    "reader = csv.reader(dtree)\n",
    "\n",
    "headers = reader.__next__()\n",
    "\n",
    "print(headers)\n",
    "\n",
    "#定义两个列表\n",
    "\n",
    "featureList = []\n",
    "labelList = []\n",
    "\n",
    "for row in reader:\n",
    "    labelList.append(row[-1])\n",
    "    rowDict = {}\n",
    "    for i in range(1, len(row) - 1):\n",
    "        rowDict[headers[i]] = row[i]\n",
    "    featureList.append(rowDict)\n",
    "\n",
    "print(featureList)"
   ]
  },
  {
   "cell_type": "code",
   "execution_count": null,
   "id": "b829e0d1-c09b-42c9-85a6-8dd0936bc7ec",
   "metadata": {},
   "outputs": [],
   "source": [
    "# 把数据转换成01表示\n",
    "vec = DictVectorizer()\n",
    "x_data = vec.fit_transform(featureList).toarray()\n",
    "\n",
    "print(vec.get_feature_names_out())\n",
    "\n",
    "print(\"x_data: \" +str(x_data))\n",
    "\n",
    "print(\"labelList: \" + str(labelList))\n",
    "\n",
    "lb = preprocessing.LabelBinarizer()\n",
    "y_data = lb.fit_transform(labelList)\n",
    "\n",
    "print(\"y_data: \" + str(y_data))\n"
   ]
  },
  {
   "cell_type": "code",
   "execution_count": null,
   "id": "f1cbfa30-fd57-4e3f-96fb-2e0007aceb11",
   "metadata": {},
   "outputs": [],
   "source": [
    "model = tree.DecisionTreeClassifier(criterion='entropy')\n",
    "\n",
    "model.fit(x_data, y_data)\n"
   ]
  },
  {
   "cell_type": "code",
   "execution_count": null,
   "id": "aaa62275-80e1-4e47-8f74-bbdb460e02e6",
   "metadata": {},
   "outputs": [],
   "source": [
    "x_test = x_data[2]\n",
    "print(\"x_test: \" + str(x_test))\n",
    "\n",
    "predict = model.predict(x_test.reshape(1, -1))\n",
    "\n",
    "print(\"predict: \" + str(predict))\n"
   ]
  },
  {
   "cell_type": "code",
   "execution_count": null,
   "id": "84ea83b7-c92e-4fb4-85c5-321322a54eae",
   "metadata": {},
   "outputs": [],
   "source": [
    "# 画决策树图\n",
    "import graphviz\n",
    "\n",
    "dot_data = tree.export_graphviz(model, out_file = None, feature_names = vec.get_feature_names_out(), \n",
    "                                class_names = lb.classes_, filled = True, rounded = True, special_characters=True)\n",
    "graph = graphviz.Source(dot_data)\n",
    "graph.render('dtree')\n",
    "graph"
   ]
  },
  {
   "cell_type": "code",
   "execution_count": null,
   "id": "cf1e8998-5392-4db2-a90c-d454ef1a0060",
   "metadata": {},
   "outputs": [],
   "source": [
    "import graphviz\n",
    "\n",
    "dot_data = \"digraph Test { a -> b; }\"\n",
    "graph = graphviz.Source(dot_data)\n",
    "# graph.render('test')\n",
    "graph"
   ]
  },
  {
   "cell_type": "code",
   "execution_count": null,
   "id": "a6cde745-cbd1-4a62-b87d-7650b5ef66e9",
   "metadata": {},
   "outputs": [],
   "source": []
  }
 ],
 "metadata": {
  "kernelspec": {
   "display_name": "Python 3 (ipykernel)",
   "language": "python",
   "name": "python3"
  },
  "language_info": {
   "codemirror_mode": {
    "name": "ipython",
    "version": 3
   },
   "file_extension": ".py",
   "mimetype": "text/x-python",
   "name": "python",
   "nbconvert_exporter": "python",
   "pygments_lexer": "ipython3",
   "version": "3.11.2"
  }
 },
 "nbformat": 4,
 "nbformat_minor": 5
}
