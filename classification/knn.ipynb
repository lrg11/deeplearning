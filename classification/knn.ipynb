{
 "cells": [
  {
   "cell_type": "code",
   "execution_count": 2,
   "id": "bbd420c6-4763-402a-b206-c2166da09205",
   "metadata": {},
   "outputs": [
    {
     "data": {
      "image/png": "[encoded data removed]",
      "text/plain": [
       "<Figure size 640x480 with 1 Axes>"
      ]
     },
     "metadata": {},
     "output_type": "display_data"
    }
   ],
   "source": [
    "import matplotlib.pyplot as plt\n",
    "import numpy as np\n",
    "import operator\n",
    "\n",
    "x1 = np.array([3,2,1])\n",
    "y1 = np.array([104,100,81])\n",
    "\n",
    "x2 = np.array([101, 99, 97])\n",
    "y2 = np.array([10, 5, 2])\n",
    "\n",
    "scatter1 = plt.scatter(x1,y1, c = 'r')\n",
    "scatter2 = plt.scatter(x2,y2, c = 'b')\n",
    "\n",
    "x = np.array([18])\n",
    "y = np.array([90])\n",
    "scatter3 = plt.scatter(x,y, c = 'k')\n",
    "\n",
    "plt.legend(handles=[scatter1, scatter2, scatter3], labels = ['labelA', 'labelB', 'X'], loc='best')\n",
    "plt.show()\n"
   ]
  },
  {
   "cell_type": "code",
   "execution_count": 3,
   "id": "c1205be6-3b28-43d8-89e5-35fda48bd960",
   "metadata": {},
   "outputs": [
    {
     "data": {
      "text/plain": [
       "6"
      ]
     },
     "execution_count": 3,
     "metadata": {},
     "output_type": "execute_result"
    }
   ],
   "source": [
    "x_data = np.array([[3, 104],[2, 100],[1,81],[101,10],[99,5],[97,2]])\n",
    "y_data = np.array(['A','A','A','B','B','B'])\n",
    "x_test = np.array([18, 90])\n",
    "\n",
    "x_data_size = x_data.shape[0]\n",
    "x_data_size"
   ]
  },
  {
   "cell_type": "code",
   "execution_count": 4,
   "id": "b1f898bb-a93e-4112-aab8-dae87d14ce11",
   "metadata": {},
   "outputs": [
    {
     "data": {
      "text/plain": [
       "array([[18, 90],\n",
       "       [18, 90],\n",
       "       [18, 90],\n",
       "       [18, 90],\n",
       "       [18, 90],\n",
       "       [18, 90]])"
      ]
     },
     "execution_count": 4,
     "metadata": {},
     "output_type": "execute_result"
    }
   ],
   "source": [
    "np.tile(x_test, (x_data_size, 1))"
   ]
  },
  {
   "cell_type": "code",
   "execution_count": 5,
   "id": "5c002d2d-b2fa-4eac-9a4b-7576d57e8bbf",
   "metadata": {},
   "outputs": [
    {
     "data": {
      "text/plain": [
       "array([[ 15, -14],\n",
       "       [ 16, -10],\n",
       "       [ 17,   9],\n",
       "       [-83,  80],\n",
       "       [-81,  85],\n",
       "       [-79,  88]])"
      ]
     },
     "execution_count": 5,
     "metadata": {},
     "output_type": "execute_result"
    }
   ],
   "source": [
    "# 计算x_test 与每一个样本的差值\n",
    "diffMat = np.tile(x_test,  (x_data_size, 1)) - x_data\n",
    "diffMat"
   ]
  },
  {
   "cell_type": "code",
   "execution_count": 6,
   "id": "1d450793-0b10-4c8a-8989-3a6703786efc",
   "metadata": {},
   "outputs": [
    {
     "data": {
      "text/plain": [
       "array([1, 2, 0, 3, 4, 5], dtype=int64)"
      ]
     },
     "execution_count": 6,
     "metadata": {},
     "output_type": "execute_result"
    }
   ],
   "source": [
    "sqDiffMat = diffMat ** 2\n",
    "\n",
    "sqDistances = sqDiffMat.sum(axis=1)\n",
    "distances = sqDistances ** 0.5\n",
    "\n",
    "#从小到大 对距离进行排序\n",
    "sortedDistances = distances.argsort()\n",
    "# 对下标索引进行排序，得到的不是值\n",
    "sortedDistances\n"
   ]
  },
  {
   "cell_type": "code",
   "execution_count": 7,
   "id": "fc854544-dc45-481b-b5f0-0ffb25a2f58b",
   "metadata": {},
   "outputs": [
    {
     "data": {
      "text/plain": [
       "{'A': 3, 'B': 2}"
      ]
     },
     "execution_count": 7,
     "metadata": {},
     "output_type": "execute_result"
    }
   ],
   "source": [
    "classCount = {}\n",
    "# 设置k\n",
    "k = 5\n",
    "\n",
    "for i in range(k):\n",
    "    # 获取标签\n",
    "    votelabel = y_data[sortedDistances[i]]\n",
    "    classCount[votelabel] = classCount.get(votelabel, 0) + 1\n",
    "\n",
    "classCount\n"
   ]
  },
  {
   "cell_type": "code",
   "execution_count": 8,
   "id": "33a82f29-96e1-4140-b660-78a7cb983d1b",
   "metadata": {},
   "outputs": [
    {
     "data": {
      "text/plain": [
       "[('A', 3), ('B', 2)]"
      ]
     },
     "execution_count": 8,
     "metadata": {},
     "output_type": "execute_result"
    }
   ],
   "source": [
    "# 根据operator 对字典的第1个，就是value从大到小排序\n",
    "sortedClassCount = sorted(classCount.items(), key = operator.itemgetter(1), reverse=True)\n",
    "sortedClassCount\n"
   ]
  },
  {
   "cell_type": "code",
   "execution_count": 9,
   "id": "fe3c1b7a-62b4-478b-9060-a08aab6971a9",
   "metadata": {},
   "outputs": [
    {
     "data": {
      "text/plain": [
       "'A'"
      ]
     },
     "execution_count": 9,
     "metadata": {},
     "output_type": "execute_result"
    }
   ],
   "source": [
    "knnclass = sortedClassCount[0][0]\n",
    "knnclass"
   ]
  },
  {
   "cell_type": "code",
   "execution_count": null,
   "id": "ff0e9700-ab6d-4112-a113-7f747dc74a51",
   "metadata": {},
   "outputs": [],
   "source": []
  }
 ],
 "metadata": {
  "kernelspec": {
   "display_name": "Python 3 (ipykernel)",
   "language": "python",
   "name": "python3"
  },
  "language_info": {
   "codemirror_mode": {
    "name": "ipython",
    "version": 3
   },
   "file_extension": ".py",
   "mimetype": "text/x-python",
   "name": "python",
   "nbconvert_exporter": "python",
   "pygments_lexer": "ipython3",
   "version": "3.11.2"
  }
 },
 "nbformat": 4,
 "nbformat_minor": 5
}
