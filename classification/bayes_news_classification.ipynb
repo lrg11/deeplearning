{
 "cells": [
  {
   "cell_type": "code",
   "execution_count": 4,
   "id": "bbd420c6-4763-402a-b206-c2166da09205",
   "metadata": {},
   "outputs": [],
   "source": [
    "import matplotlib.pyplot as plt\n",
    "import numpy as np\n",
    "import random\n",
    "import operator\n",
    "from sklearn import datasets\n",
    "from sklearn.datasets import fetch_20newsgroups\n",
    "from sklearn.model_selection import train_test_split\n",
    "from sklearn.metrics import classification_report,confusion_matrix\n",
    "from sklearn.naive_bayes import MultinomialNB, BernoulliNB, GaussianNB"
   ]
  },
  {
   "cell_type": "code",
   "execution_count": 5,
   "id": "ff0e9700-ab6d-4112-a113-7f747dc74a51",
   "metadata": {
    "scrolled": true
   },
   "outputs": [
    {
     "name": "stdout",
     "output_type": "stream",
     "text": [
      "['alt.atheism', 'comp.graphics', 'comp.os.ms-windows.misc', 'comp.sys.ibm.pc.hardware', 'comp.sys.mac.hardware', 'comp.windows.x', 'misc.forsale', 'rec.autos', 'rec.motorcycles', 'rec.sport.baseball', 'rec.sport.hockey', 'sci.crypt', 'sci.electronics', 'sci.med', 'sci.space', 'soc.religion.christian', 'talk.politics.guns', 'talk.politics.mideast', 'talk.politics.misc', 'talk.religion.misc']\n",
      "18846\n",
      "18846\n"
     ]
    }
   ],
   "source": [
    "# 载入数据集\n",
    "news = fetch_20newsgroups(subset='all')\n",
    "print(news.target_names)\n",
    "print(len(news.data))\n",
    "print(len(news.target))\n"
   ]
  },
  {
   "cell_type": "code",
   "execution_count": 12,
   "id": "22e82795-9fc7-4cbf-ab0e-bff754a1ba10",
   "metadata": {},
   "outputs": [],
   "source": [
    "x_train,x_test, y_train, y_test = train_test_split(news.data, news.target, random_state=33)"
   ]
  },
  {
   "cell_type": "code",
   "execution_count": 13,
   "id": "703ce947-189c-4265-8a97-f1b69f5dec52",
   "metadata": {},
   "outputs": [],
   "source": [
    "# 采用普通统计CountVectorizer提取特征向量\n",
    "# 默认配置不去除停用词，停顿用的词\n",
    "cv = CountVectorizer()\n",
    "cv_train = cv.fit_transform(x_train)\n",
    "cv_test = cv.transform(x_test)\n",
    "\n",
    "#去除停用词\n",
    "stop_cv = CountVectorizer(analyzer='word', stop_words='english')\n",
    "stop_cv_train = stop_cv.fit_transform(x_train)\n",
    "stop_cv_test = stop_cv.transform(x_test)"
   ]
  },
  {
   "cell_type": "code",
   "execution_count": 14,
   "id": "8b6cfd1f-bda4-4a8c-916a-4334cb3912db",
   "metadata": {},
   "outputs": [],
   "source": [
    "# 采用TfidfVectorizer 提取文本特征向量\n",
    "# 默认配置不去除停用词\n",
    "tfid_vec = TfidfVectorizer()\n",
    "x_tfid_train = tfid_vec.fit_transform(x_train)\n",
    "x_tfid_test = tfid_vec.transform(x_test)\n",
    "#去除停用词\n",
    "stop_tfidf = TfidfVectorizer(analyzer='word', stop_words='english')\n",
    "stop_tfidf_train = stop_tfidf.fit_transform(x_train)\n",
    "stop_tfidf_test = stop_tfidf.transform(x_test)"
   ]
  },
  {
   "cell_type": "code",
   "execution_count": 15,
   "id": "c8c3e9b1-b8ba-40b8-88b7-a616b5075230",
   "metadata": {},
   "outputs": [],
   "source": [
    "# 使用朴素贝叶斯分类器 对两种提词方法得到的特征值进行学习和预测\n",
    "# CountVectorizer\n",
    "mnb_count = MultinomialNB()\n",
    "mnb_count.fit(cv_train, y_train)   # 学习\n",
    "mnb_count_y_predict = mnb_count.predict(cv_test)   # 预测\n",
    "# 去除停用词\n",
    "mnb_count_stop = MultinomialNB()\n",
    "mnb_count_stop.fit(stop_cv_train, y_train)   # 学习\n",
    "mnb_count_stop_y_predict = mnb_count_stop.predict(stop_cv_test)    # 预测\n",
    "\n",
    "# 对TfidfVectorizer提取文本特征向量 学习和预测\n",
    "mnb_tfid = MultinomialNB()\n",
    "mnb_tfid.fit(x_tfid_train, y_train)\n",
    "mnb_tfid_y_predict = mnb_tfid.predict(x_tfid_test)\n",
    "# 去除停用词\n",
    "mnb_tfid_stop = MultinomialNB()\n",
    "mnb_tfid_stop.fit(stop_tfidf_train, y_train)   # 学习\n",
    "mnb_tfid_stop_y_predict = mnb_tfid_stop.predict(stop_tfidf_test)    # 预测\n"
   ]
  },
  {
   "cell_type": "code",
   "execution_count": 17,
   "id": "6971b159-677d-40c0-bd3b-aee074b83f65",
   "metadata": {},
   "outputs": [
    {
     "name": "stdout",
     "output_type": "stream",
     "text": [
      "未去除停用词的CountVectorizer提取的特征学习模型准确率： 0.8397707979626485\n",
      "更加详细的评估指标:\n",
      "               precision    recall  f1-score   support\n",
      "\n",
      "           0       0.86      0.86      0.86       201\n",
      "           1       0.86      0.59      0.70       365\n",
      "           2       0.10      0.89      0.17        27\n",
      "           3       0.88      0.60      0.72       350\n",
      "           4       0.78      0.93      0.85       204\n",
      "           5       0.84      0.82      0.83       271\n",
      "           6       0.70      0.91      0.79       197\n",
      "           7       0.89      0.89      0.89       239\n",
      "           8       0.92      0.98      0.95       257\n",
      "           9       0.91      0.98      0.95       233\n",
      "          10       0.99      0.93      0.96       248\n",
      "          11       0.98      0.86      0.91       272\n",
      "          12       0.88      0.85      0.86       259\n",
      "          13       0.94      0.92      0.93       252\n",
      "          14       0.96      0.89      0.92       239\n",
      "          15       0.96      0.78      0.86       285\n",
      "          16       0.96      0.88      0.92       272\n",
      "          17       0.98      0.90      0.94       252\n",
      "          18       0.89      0.79      0.84       214\n",
      "          19       0.44      0.93      0.60        75\n",
      "\n",
      "    accuracy                           0.84      4712\n",
      "   macro avg       0.84      0.86      0.82      4712\n",
      "weighted avg       0.89      0.84      0.86      4712\n",
      "\n",
      "去除停用词的CountVectorizer提取的特征学习模型准确率： 0.8637521222410866\n",
      "更加详细的评估指标:\n",
      "               precision    recall  f1-score   support\n",
      "\n",
      "           0       0.89      0.85      0.87       210\n",
      "           1       0.88      0.62      0.73       352\n",
      "           2       0.22      0.93      0.36        59\n",
      "           3       0.88      0.62      0.73       341\n",
      "           4       0.85      0.93      0.89       222\n",
      "           5       0.85      0.82      0.84       273\n",
      "           6       0.79      0.90      0.84       226\n",
      "           7       0.91      0.91      0.91       239\n",
      "           8       0.94      0.98      0.96       264\n",
      "           9       0.92      0.98      0.95       236\n",
      "          10       0.99      0.92      0.95       251\n",
      "          11       0.97      0.91      0.93       254\n",
      "          12       0.89      0.87      0.88       254\n",
      "          13       0.95      0.94      0.95       248\n",
      "          14       0.96      0.91      0.93       233\n",
      "          15       0.94      0.87      0.90       250\n",
      "          16       0.96      0.89      0.93       271\n",
      "          17       0.98      0.95      0.97       238\n",
      "          18       0.90      0.84      0.87       200\n",
      "          19       0.53      0.91      0.67        91\n",
      "\n",
      "    accuracy                           0.86      4712\n",
      "   macro avg       0.86      0.88      0.85      4712\n",
      "weighted avg       0.90      0.86      0.87      4712\n",
      "\n",
      "TfidVectorizer提取的特征学习模型准确率： 0.8463497453310697\n",
      "更加详细的评估指标:\n",
      "               precision    recall  f1-score   support\n",
      "\n",
      "           0       0.67      0.84      0.75       160\n",
      "           1       0.74      0.85      0.79       218\n",
      "           2       0.85      0.82      0.83       256\n",
      "           3       0.88      0.76      0.82       275\n",
      "           4       0.84      0.94      0.89       217\n",
      "           5       0.84      0.96      0.89       229\n",
      "           6       0.69      0.93      0.79       192\n",
      "           7       0.92      0.84      0.88       259\n",
      "           8       0.92      0.98      0.95       259\n",
      "           9       0.91      0.96      0.94       238\n",
      "          10       0.99      0.88      0.93       264\n",
      "          11       0.98      0.73      0.83       321\n",
      "          12       0.83      0.91      0.87       226\n",
      "          13       0.92      0.97      0.95       231\n",
      "          14       0.96      0.89      0.93       239\n",
      "          15       0.97      0.51      0.67       443\n",
      "          16       0.96      0.83      0.89       293\n",
      "          17       0.97      0.92      0.95       245\n",
      "          18       0.62      0.98      0.76       119\n",
      "          19       0.16      0.93      0.28        28\n",
      "\n",
      "    accuracy                           0.85      4712\n",
      "   macro avg       0.83      0.87      0.83      4712\n",
      "weighted avg       0.88      0.85      0.85      4712\n",
      "\n",
      "去除停用词的TfidVectorizer提取的特征学习模型准确率： 0.8826400679117148\n",
      "更加详细的评估指标:\n",
      "               precision    recall  f1-score   support\n",
      "\n",
      "           0       0.81      0.86      0.83       190\n",
      "           1       0.81      0.85      0.83       238\n",
      "           2       0.87      0.84      0.86       257\n",
      "           3       0.88      0.78      0.83       269\n",
      "           4       0.90      0.92      0.91       235\n",
      "           5       0.88      0.95      0.91       243\n",
      "           6       0.80      0.90      0.85       230\n",
      "           7       0.92      0.89      0.90       244\n",
      "           8       0.94      0.98      0.96       265\n",
      "           9       0.93      0.97      0.95       242\n",
      "          10       0.99      0.88      0.93       264\n",
      "          11       0.98      0.85      0.91       273\n",
      "          12       0.86      0.93      0.89       231\n",
      "          13       0.93      0.96      0.95       237\n",
      "          14       0.97      0.90      0.93       239\n",
      "          15       0.96      0.70      0.81       320\n",
      "          16       0.98      0.84      0.90       294\n",
      "          17       0.99      0.92      0.95       248\n",
      "          18       0.74      0.97      0.84       145\n",
      "          19       0.29      0.96      0.45        48\n",
      "\n",
      "    accuracy                           0.88      4712\n",
      "   macro avg       0.87      0.89      0.87      4712\n",
      "weighted avg       0.90      0.88      0.89      4712\n",
      "\n"
     ]
    }
   ],
   "source": [
    "# 5 模型评估\n",
    "# 对普通统计CountVectorizer提取的特征学习模型进行评估\n",
    "print(\"未去除停用词的CountVectorizer提取的特征学习模型准确率：\", mnb_count.score(cv_test, y_test))\n",
    "print(\"更加详细的评估指标:\\n\", classification_report(mnb_count_y_predict, y_test))\n",
    "print(\"去除停用词的CountVectorizer提取的特征学习模型准确率：\", mnb_count_stop.score(stop_cv_test, y_test))\n",
    "print(\"更加详细的评估指标:\\n\", classification_report(mnb_count_stop_y_predict, y_test))\n",
    "\n",
    "# 对TfidVectorizer提取的特征学习模型进行评估\n",
    "print(\"TfidVectorizer提取的特征学习模型准确率：\", mnb_tfid.score(x_tfid_test, y_test))\n",
    "print(\"更加详细的评估指标:\\n\", classification_report(mnb_tfid_y_predict, y_test))\n",
    "print(\"去除停用词的TfidVectorizer提取的特征学习模型准确率：\", mnb_tfid_stop.score(stop_tfidf_test, y_test))\n",
    "print(\"更加详细的评估指标:\\n\", classification_report(mnb_tfid_stop_y_predict, y_test))\n"
   ]
  },
  {
   "cell_type": "markdown",
   "id": "5d4012a4-8758-4cca-951d-92fc98dda49f",
   "metadata": {},
   "source": [
    "CountVectorizer方法构建单词的字典，每个单词转换为特征向量的一个数值特征，特征向量每个元素是特定单词在文本中出现的次数，维度是所有不同的单词个数，从而把所有句子都\n",
    "统一长度，一般是字典序"
   ]
  },
  {
   "cell_type": "code",
   "execution_count": 8,
   "id": "d6b80d04-5a0e-4d86-aa6c-69f8bad81ee7",
   "metadata": {},
   "outputs": [
    {
     "name": "stdout",
     "output_type": "stream",
     "text": [
      "['bird' 'cat' 'dog' 'fish']\n",
      "[[0 1 1 1]\n",
      " [0 2 1 0]\n",
      " [1 0 0 1]\n",
      " [1 0 0 0]]\n",
      "[2 3 2 2]\n"
     ]
    }
   ],
   "source": [
    "# 词袋模型 bag of words\n",
    "from sklearn.feature_extraction.text import CountVectorizer\n",
    "texts = [\"dog cat fish\", \"dog cat cat\", \"fish bird\", \"bird\"]\n",
    "cv = CountVectorizer()\n",
    "cv_fit = cv.fit_transform(texts)\n",
    "\n",
    "print(cv.get_feature_names_out())\n",
    "print(cv_fit.toarray())\n",
    "\n",
    "print(cv_fit.toarray().sum(axis="
   ]
  },
  {
   "cell_type": "markdown",
   "id": "ef17a52b-c667-4807-bd09-8a43e9e3f366",
   "metadata": {},
   "source": [
    "TfidfVectorizer使用了一个高级的计算方法，称为Term Frequency Inverse Document Frequency (TF-IDF)。可以避免因为有些词出现太过频繁而对一个视力的特征化作用不大的情况\n",
    "比如 a和 and在英语中出现的频率比较高，但是它们对表征一个文本没什么作用"
   ]
  },
  {
   "cell_type": "code",
   "execution_count": 11,
   "id": "34dee770-1880-46f5-9405-6707fa3b1a38",
   "metadata": {},
   "outputs": [
    {
     "name": "stdout",
     "output_type": "stream",
     "text": [
      "{'the': 7, 'quick': 6, 'brow': 0, 'fox': 2, 'jumped': 3, 'over': 5, 'lazy': 4, 'dog': 1}\n",
      "[1.69314718 1.28768207 1.28768207 1.69314718 1.69314718 1.69314718\n",
      " 1.69314718 1.        ]\n",
      "(1, 8)\n",
      "[[0.36388646 0.27674503 0.27674503 0.36388646 0.36388646 0.36388646\n",
      "  0.36388646 0.42983441]]\n"
     ]
    }
   ],
   "source": [
    "from sklearn.feature_extraction.text import TfidfVectorizer\n",
    "texts = [\"The quick brow fox jumped over the lazy dog.\", \"The dog.\", \"The fox\"]\n",
    "tfidf = TfidfVectorizer()\n",
    "tfidf.fit(texts)\n",
    "\n",
    "print(tfidf.vocabulary_)\n",
    "print(tfidf.idf_)\n",
    "#编码文档\n",
    "vector = tfidf.transform([texts[0]])\n",
    "\n",
    "# 总结编码文档\n",
    "print(vector.shape)\n",
    "print(vector.toarray())\n"
   ]
  }
 ],
 "metadata": {
  "kernelspec": {
   "display_name": "Python 3 (ipykernel)",
   "language": "python",
   "name": "python3"
  },
  "language_info": {
   "codemirror_mode": {
    "name": "ipython",
    "version": 3
   },
   "file_extension": ".py",
   "mimetype": "text/x-python",
   "name": "python",
   "nbconvert_exporter": "python",
   "pygments_lexer": "ipython3",
   "version": "3.11.2"
  }
 },
 "nbformat": 4,
 "nbformat_minor": 5
}
