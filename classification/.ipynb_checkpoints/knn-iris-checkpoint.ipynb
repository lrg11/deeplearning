{
 "cells": [
  {
   "cell_type": "code",
   "execution_count": 8,
   "id": "bbd420c6-4763-402a-b206-c2166da09205",
   "metadata": {},
   "outputs": [
    {
     "ename": "ModuleNotFoundError",
     "evalue": "No module named 'sklearn.matrics'",
     "output_type": "error",
     "traceback": [
      "\u001b[1;31m---------------------------------------------------------------------------\u001b[0m",
      "\u001b[1;31mModuleNotFoundError\u001b[0m                       Traceback (most recent call last)",
      "Cell \u001b[1;32mIn[8], line 7\u001b[0m\n\u001b[0;32m      5\u001b[0m \u001b[38;5;28;01mfrom\u001b[39;00m \u001b[38;5;21;01msklearn\u001b[39;00m \u001b[38;5;28;01mimport\u001b[39;00m datasets\n\u001b[0;32m      6\u001b[0m \u001b[38;5;28;01mfrom\u001b[39;00m \u001b[38;5;21;01msklearn\u001b[39;00m\u001b[38;5;21;01m.\u001b[39;00m\u001b[38;5;21;01mmodel_selection\u001b[39;00m \u001b[38;5;28;01mimport\u001b[39;00m train_test_split\n\u001b[1;32m----> 7\u001b[0m \u001b[38;5;28;01mfrom\u001b[39;00m \u001b[38;5;21;01msklearn\u001b[39;00m\u001b[38;5;21;01m.\u001b[39;00m\u001b[38;5;21;01mmatrics\u001b[39;00m \u001b[38;5;28;01mimport\u001b[39;00m classification_report,confusion_matrix\n",
      "\u001b[1;31mModuleNotFoundError\u001b[0m: No module named 'sklearn.matrics'"
     ]
    }
   ],
   "source": [
    "import matplotlib.pyplot as plt\n",
    "import numpy as np\n",
    "import random\n",
    "import operator\n",
    "from sklearn import datasets\n",
    "from sklearn.model_selection import train_test_split\n",
    "from sklearn.matrics import classification_report,confusion_matrix"
   ]
  },
  {
   "cell_type": "code",
   "execution_count": null,
   "id": "5c002d2d-b2fa-4eac-9a4b-7576d57e8bbf",
   "metadata": {},
   "outputs": [],
   "source": [
    "def knn(x_test, x_data, y_data, k):\n",
    "    x_data_size = x_data.shape[0]\n",
    "    np.tile(x_test, (x_data_size,1))\n",
    "    # 计算x_test 与每一个样本的差值\n",
    "    diffMat = np.tile(x_test,  (x_data_size, 1)) - x_data\n",
    "    sqDiffMat = diffMat ** 2\n",
    "\n",
    "    sqDistances = sqDiffMat.sum(axis=1)\n",
    "    distances = sqDistances ** 0.5\n",
    "    \n",
    "    #从小到大 对距离进行排序\n",
    "    sortedDistances = distances.argsort()\n",
    "    # 对下标索引进行排序，得到的不是值\n",
    "    classCount = {}\n",
    "    \n",
    "    for i in range(k):\n",
    "        # 获取标签\n",
    "        votelabel = y_data[sortedDistances[i]]\n",
    "        classCount[votelabel] = classCount.get(votelabel, 0) + 1\n",
    "    \n",
    "    # 根据operator 对字典的第1个，就是value从大到小排序\n",
    "    sortedClassCount = sorted(classCount.items(), key = operator.itemgetter(1), reverse=True)\n",
    "    knnclass = sortedClassCount[0][0]\n",
    "    return knnclass"
   ]
  },
  {
   "cell_type": "code",
   "execution_count": 9,
   "id": "ff0e9700-ab6d-4112-a113-7f747dc74a51",
   "metadata": {},
   "outputs": [
    {
     "ename": "AttributeError",
     "evalue": "",
     "output_type": "error",
     "traceback": [
      "\u001b[1;31m---------------------------------------------------------------------------\u001b[0m",
      "\u001b[1;31mKeyError\u001b[0m                                  Traceback (most recent call last)",
      "File \u001b[1;32mD:\\Softwares\\Python3\\Lib\\site-packages\\sklearn\\datasets\\__init__.py:159\u001b[0m, in \u001b[0;36m__getattr__\u001b[1;34m(name)\u001b[0m\n\u001b[0;32m    158\u001b[0m \u001b[38;5;28;01mtry\u001b[39;00m:\n\u001b[1;32m--> 159\u001b[0m     \u001b[38;5;28;01mreturn\u001b[39;00m \u001b[38;5;28;43mglobals\u001b[39;49m\u001b[43m(\u001b[49m\u001b[43m)\u001b[49m\u001b[43m[\u001b[49m\u001b[43mname\u001b[49m\u001b[43m]\u001b[49m\n\u001b[0;32m    160\u001b[0m \u001b[38;5;28;01mexcept\u001b[39;00m \u001b[38;5;167;01mKeyError\u001b[39;00m:\n\u001b[0;32m    161\u001b[0m     \u001b[38;5;66;03m# This is turned into the appropriate ImportError\u001b[39;00m\n",
      "\u001b[1;31mKeyError\u001b[0m: 'loda_iris'",
      "\nDuring handling of the above exception, another exception occurred:\n",
      "\u001b[1;31mAttributeError\u001b[0m                            Traceback (most recent call last)",
      "Cell \u001b[1;32mIn[9], line 2\u001b[0m\n\u001b[0;32m      1\u001b[0m \u001b[38;5;66;03m# 载入数据集\u001b[39;00m\n\u001b[1;32m----> 2\u001b[0m iris \u001b[38;5;241m=\u001b[39m \u001b[43mdatasets\u001b[49m\u001b[38;5;241;43m.\u001b[39;49m\u001b[43mloda_iris\u001b[49m()\n\u001b[0;32m      3\u001b[0m \u001b[38;5;66;03m# x_train , x_test, y_train, y_test = train_test_split(iris.data, iris.target. test_size=0.2) # 分割数据集，20%为测试数据\u001b[39;00m\n\u001b[0;32m      5\u001b[0m data_size \u001b[38;5;241m=\u001b[39m iris\u001b[38;5;241m.\u001b[39mdata\u001b[38;5;241m.\u001b[39mshape[\u001b[38;5;241m0\u001b[39m]\n",
      "File \u001b[1;32mD:\\Softwares\\Python3\\Lib\\site-packages\\sklearn\\datasets\\__init__.py:162\u001b[0m, in \u001b[0;36m__getattr__\u001b[1;34m(name)\u001b[0m\n\u001b[0;32m    159\u001b[0m     \u001b[38;5;28;01mreturn\u001b[39;00m \u001b[38;5;28mglobals\u001b[39m()[name]\n\u001b[0;32m    160\u001b[0m \u001b[38;5;28;01mexcept\u001b[39;00m \u001b[38;5;167;01mKeyError\u001b[39;00m:\n\u001b[0;32m    161\u001b[0m     \u001b[38;5;66;03m# This is turned into the appropriate ImportError\u001b[39;00m\n\u001b[1;32m--> 162\u001b[0m     \u001b[38;5;28;01mraise\u001b[39;00m \u001b[38;5;167;01mAttributeError\u001b[39;00m\n",
      "\u001b[1;31mAttributeError\u001b[0m: "
     ]
    }
   ],
   "source": [
    "# 载入数据集\n",
    "iris = datasets.load_iris()\n",
    "# x_train , x_test, y_train, y_test = train_test_split(iris.data, iris.target. test_size=0.2) # 分割数据集，20%为测试数据\n",
    "\n",
    "data_size = iris.data.shape[0]\n",
    "index = [i for i in range(data_size)]\n",
    "random.shffle(index)\n",
    "\n",
    "iris.data=iris.data[index]\n",
    "iris.target=iris.target[index]\n",
    "\n",
    "test_size = 40\n",
    "\n",
    "x_train = iris.data[test_size:]\n",
    "x_test = iris.data[:test_size]\n",
    "y_train = iris.target[test_size:]\n",
    "x_test = iris.target[:test_size]\n",
    "\n",
    "predictions= []\n",
    "\n",
    "for i in  range(x_test.shape[0]):\n",
    "    predictions.append(knn(x_test[i], x_train, y_train, 5))\n",
    "\n",
    "print(classification_report(y_test, predictions))"
   ]
  },
  {
   "cell_type": "code",
   "execution_count": null,
   "id": "3ee83e5c-67c8-4f69-b234-cacf82dc66c7",
   "metadata": {},
   "outputs": [],
   "source": []
  }
 ],
 "metadata": {
  "kernelspec": {
   "display_name": "Python 3 (ipykernel)",
   "language": "python",
   "name": "python3"
  },
  "language_info": {
   "codemirror_mode": {
    "name": "ipython",
    "version": 3
   },
   "file_extension": ".py",
   "mimetype": "text/x-python",
   "name": "python",
   "nbconvert_exporter": "python",
   "pygments_lexer": "ipython3",
   "version": "3.11.2"
  }
 },
 "nbformat": 4,
 "nbformat_minor": 5
}
