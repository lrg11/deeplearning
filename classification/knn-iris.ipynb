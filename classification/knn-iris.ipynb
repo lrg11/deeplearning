{
 "cells": [
  {
   "cell_type": "code",
   "execution_count": 17,
   "id": "bbd420c6-4763-402a-b206-c2166da09205",
   "metadata": {},
   "outputs": [],
   "source": [
    "import matplotlib.pyplot as plt\n",
    "import numpy as np\n",
    "import random\n",
    "import operator\n",
    "from sklearn import datasets\n",
    "from sklearn.model_selection import train_test_split\n",
    "from sklearn.metrics import classification_report,confusion_matrix"
   ]
  },
  {
   "cell_type": "code",
   "execution_count": 18,
   "id": "5c002d2d-b2fa-4eac-9a4b-7576d57e8bbf",
   "metadata": {},
   "outputs": [],
   "source": [
    "def knn(x_test, x_data, y_data, k):\n",
    "    x_data_size = x_data.shape[0]\n",
    "    np.tile(x_test, (x_data_size,1))\n",
    "    # 计算x_test 与每一个样本的差值\n",
    "    diffMat = np.tile(x_test,  (x_data_size, 1)) - x_data\n",
    "    sqDiffMat = diffMat ** 2\n",
    "\n",
    "    sqDistances = sqDiffMat.sum(axis=1)\n",
    "    distances = sqDistances ** 0.5\n",
    "    \n",
    "    #从小到大 对距离进行排序\n",
    "    sortedDistances = distances.argsort()\n",
    "    # 对下标索引进行排序，得到的不是值\n",
    "    classCount = {}\n",
    "    \n",
    "    for i in range(k):\n",
    "        # 获取标签\n",
    "        votelabel = y_data[sortedDistances[i]]\n",
    "        classCount[votelabel] = classCount.get(votelabel, 0) + 1\n",
    "    \n",
    "    # 根据operator 对字典的第1个，就是value从大到小排序\n",
    "    sortedClassCount = sorted(classCount.items(), key = operator.itemgetter(1), reverse=True)\n",
    "    knnclass = sortedClassCount[0][0]\n",
    "    return knnclass"
   ]
  },
  {
   "cell_type": "code",
   "execution_count": 19,
   "id": "ff0e9700-ab6d-4112-a113-7f747dc74a51",
   "metadata": {},
   "outputs": [
    {
     "name": "stdout",
     "output_type": "stream",
     "text": [
      "              precision    recall  f1-score   support\n",
      "\n",
      "           0       1.00      1.00      1.00        16\n",
      "           1       1.00      0.91      0.95        11\n",
      "           2       0.93      1.00      0.96        13\n",
      "\n",
      "    accuracy                           0.97        40\n",
      "   macro avg       0.98      0.97      0.97        40\n",
      "weighted avg       0.98      0.97      0.97        40\n",
      "\n"
     ]
    }
   ],
   "source": [
    "# 载入数据集\n",
    "iris = datasets.load_iris()\n",
    "# x_train , x_test, y_train, y_test = train_test_split(iris.data, iris.target. test_size=0.2) # 分割数据集，20%为测试数据\n",
    "\n",
    "data_size = iris.data.shape[0]\n",
    "index = [i for i in range(data_size)]\n",
    "random.shuffle(index)\n",
    "\n",
    "iris.data=iris.data[index]\n",
    "iris.target=iris.target[index]\n",
    "\n",
    "test_size = 40\n",
    "\n",
    "x_train = iris.data[test_size:]\n",
    "x_test = iris.data[:test_size]\n",
    "y_train = iris.target[test_size:]\n",
    "y_test = iris.target[:test_size]\n",
    "\n",
    "predictions= []\n",
    "\n",
    "for i in  range(x_test.shape[0]):\n",
    "    predictions.append(knn(x_test[i], x_train, y_train, 5))\n",
    "\n",
    "print(classification_report(y_test, predictions))"
   ]
  },
  {
   "cell_type": "code",
   "execution_count": 20,
   "id": "3ee83e5c-67c8-4f69-b234-cacf82dc66c7",
   "metadata": {},
   "outputs": [
    {
     "name": "stdout",
     "output_type": "stream",
     "text": [
      "[[16  0  0]\n",
      " [ 0 10  1]\n",
      " [ 0  0 13]]\n"
     ]
    }
   ],
   "source": [
    "print(confusion_matrix(y_test, predictions))"
   ]
  },
  {
   "cell_type": "code",
   "execution_count": null,
   "id": "ffce3624-8773-4c50-8507-b32825196f02",
   "metadata": {},
   "outputs": [],
   "source": []
  }
 ],
 "metadata": {
  "kernelspec": {
   "display_name": "Python 3 (ipykernel)",
   "language": "python",
   "name": "python3"
  },
  "language_info": {
   "codemirror_mode": {
    "name": "ipython",
    "version": 3
   },
   "file_extension": ".py",
   "mimetype": "text/x-python",
   "name": "python",
   "nbconvert_exporter": "python",
   "pygments_lexer": "ipython3",
   "version": "3.11.2"
  }
 },
 "nbformat": 4,
 "nbformat_minor": 5
}
