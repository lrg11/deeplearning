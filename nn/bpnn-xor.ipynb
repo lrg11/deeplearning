{
 "cells": [
  {
   "cell_type": "code",
   "execution_count": 6,
   "id": "abe23a55-fb66-4500-b519-9c4cd1d9c918",
   "metadata": {},
   "outputs": [],
   "source": [
    "import numpy as np\n",
    "import matplotlib.pyplot as plt"
   ]
  },
  {
   "cell_type": "code",
   "execution_count": 11,
   "id": "9c99053e-4a3b-4a3e-a99e-b5ffd6122f21",
   "metadata": {},
   "outputs": [
    {
     "name": "stdout",
     "output_type": "stream",
     "text": [
      "[[-0.26966028  0.18721503 -0.76179481 -0.67878287]\n",
      " [ 0.87874063  0.70348949  0.39369692  0.06298702]\n",
      " [ 0.80355758  0.78678299 -0.07320773 -0.33068142]]\n",
      "[[-0.1356483 ]\n",
      " [ 0.16545747]\n",
      " [-0.93510485]\n",
      " [ 0.02545869]]\n"
     ]
    }
   ],
   "source": [
    "x = np.array([[1, 0, 0],[1,0,1],[1,1,0],[1,1,1]])\n",
    "y = np.array([[0],[1],[1],[0]])\n",
    "# 权值初始化， 4 行 1 列  ，取值范围 -1 到 1\n",
    "w = (np.random.random((4,1)) - 0.5) *  2\n",
    "# 第一层权值\n",
    "v = (np.random.random((3,4)) - 0.5) *  2\n",
    "print(v)\n",
    "print(w)\n",
    "# 学习率\n",
    "lr = 0.11\n",
    "\n",
    "out = 0\n",
    "\n",
    "def sigmod(x):\n",
    "    return 1 / (1 + np.exp(-x))\n",
    "    \n",
    "def dsigmod(x):\n",
    "    return x*(1-x)\n",
    "    \n",
    "def updateNN():\n",
    "    global x,y,v,w,lr\n",
    "    l1 = sigmod(np.dot(x,v)) #隐藏层输出 （4，4）, y\n",
    "    out = sigmod(np.dot(l1,w)) #输出层 shape : (4, 1)\n",
    "    out_delta = (y-out) * dsigmod(out) # 4,1 * 4,1 = 4,1\n",
    "    l1_delta = out_delta.dot(w.T) * dsigmod(l1)\n",
    "    w_c = lr * l1.T.dot(out_delta)\n",
    "    v_c = lr * x.T.dot(l1_delta)\n",
    "    w = w + w_c\n",
    "    v = v + v_c"
   ]
  },
  {
   "cell_type": "code",
   "execution_count": 12,
   "id": "74ef2294-328e-49a3-b27c-5c1e64747169",
   "metadata": {},
   "outputs": [
    {
     "name": "stdout",
     "output_type": "stream",
     "text": [
      "Error: 0.49993856354880445\n",
      "Error: 0.4973200564772665\n",
      "Error: 0.49275004692415225\n",
      "Error: 0.47738389767490297\n",
      "Error: 0.4289869304344138\n",
      "Error: 0.3428676280267675\n",
      "Error: 0.2454301008047914\n",
      "Error: 0.17806916856103927\n",
      "Error: 0.13851766154897052\n",
      "Error: 0.11418422685747728\n",
      "Error: 0.09799893114175054\n",
      "Error: 0.0864964442077828\n",
      "Error: 0.0778921277995058\n",
      "Error: 0.07119682284605389\n",
      "Error: 0.065823968084065\n",
      "Error: 0.061405305010367756\n",
      "Error: 0.05769839463775319\n",
      "Error: 0.05453719266913114\n",
      "Error: 0.05180413644093033\n",
      "Error: 0.04941361100877768\n",
      "Error: 0.0473017444654192\n",
      "Error: 0.045419881399259246\n",
      "Error: 0.04373027730296434\n",
      "Error: 0.04220317987555769\n",
      "Error: 0.04081480243741714\n",
      "Error: 0.03954588647950592\n",
      "Error: 0.038380662496066954\n",
      "Error: 0.03730608579741776\n",
      "Error: 0.036311265803702794\n",
      "Error: 0.03538703383042191\n",
      "Error: 0.034525611563019025\n",
      "Error: 0.03372035378601616\n",
      "Error: 0.03296554659113146\n",
      "Error: 0.03225624753640089\n",
      "Error: 0.03158815787983463\n",
      "Error: 0.030957519588596653\n",
      "Error: 0.030361031668257186\n",
      "Error: 0.02979578169157004\n",
      "Error: 0.029259189383917625\n",
      "Error: 0.02874895984630945\n",
      "[[0.02912269]\n",
      " [0.97302069]\n",
      " [0.97235269]\n",
      " [0.02930666]]\n",
      "0\n",
      "1\n",
      "1\n",
      "0\n"
     ]
    }
   ],
   "source": [
    "for i in range(20000):\n",
    "    updateNN()\n",
    "    if i % 500== 0:\n",
    "        l1 = sigmod(np.dot(x,v)) #隐藏层输出 （4，4）, y\n",
    "        out = sigmod(np.dot(l1,w)) #输出层 shape : (4, 1)\n",
    "        print(\"Error:\", np.mean(np.abs(y-out)))\n",
    "    #print(i)\n",
    "    #out = np.sign(np.dot(x,w)) # 计算当前输出\n",
    "    #if(out == y).all(): # 实际输出全部等于期望，模型收敛\n",
    "    #    print(\"finished\")\n",
    "    #    print('epoch:', i)\n",
    "    #    break\n",
    "l1 = sigmod(np.dot(x,v)) #隐藏层输出 （4，4）, y\n",
    "out = sigmod(np.dot(l1,w)) #输出层 shape : (4, 1)\n",
    "print(out)\n",
    "\n",
    "def judge(x):\n",
    "    if x>=0.5:\n",
    "        return 1\n",
    "    else:\n",
    "        return 0\n",
    "\n",
    "for i in map(judge, out):\n",
    "    print(i)"
   ]
  },
  {
   "cell_type": "code",
   "execution_count": null,
   "id": "cc865fc9-bc07-4e86-806d-cdd547a44786",
   "metadata": {},
   "outputs": [],
   "source": [
    "x1 = [3, 4]\n",
    "y1 = [3, 3]\n",
    "# 负样本\n",
    "x2 = [1, 0]\n",
    "y2 = [1, 2]\n",
    "\n",
    "# 计算分界线的斜率和截距\n",
    "k = -w[1] / w[2]\n",
    "d = -w[0] / w[2]\n",
    "print('k=', k, 'd=', d)\n",
    "xdata = (0, 5)\n",
    "\n",
    "plt.figure()\n",
    "plt.plot(xdata, xdata * k + d, 'r')\n",
    "plt.scatter(x1,y1, c='b')\n",
    "plt.scatter(x2, y2, c ='y')\n",
    "plt.show()"
   ]
  }
 ],
 "metadata": {
  "kernelspec": {
   "display_name": "Python 3 (ipykernel)",
   "language": "python",
   "name": "python3"
  },
  "language_info": {
   "codemirror_mode": {
    "name": "ipython",
    "version": 3
   },
   "file_extension": ".py",
   "mimetype": "text/x-python",
   "name": "python",
   "nbconvert_exporter": "python",
   "pygments_lexer": "ipython3",
   "version": "3.11.2"
  }
 },
 "nbformat": 4,
 "nbformat_minor": 5
}
