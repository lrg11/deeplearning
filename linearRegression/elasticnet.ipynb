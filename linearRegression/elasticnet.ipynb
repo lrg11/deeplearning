{
 "cells": [
  {
   "cell_type": "code",
   "execution_count": 1,
   "id": "264e9524-087d-46ff-8710-5aa2dd0be100",
   "metadata": {},
   "outputs": [],
   "source": [
    "import numpy as np\n",
    "import matplotlib.pyplot as plt\n",
    "from sklearn import linear_model\n",
    "from sklearn.datasets import make_gaussian_quantiles\n",
    "from sklearn.preprocessing import PolynomialFeatures"
   ]
  },
  {
   "cell_type": "code",
   "execution_count": 4,
   "id": "f4a1bc65-fa29-424c-a439-8fc7923fc55b",
   "metadata": {},
   "outputs": [
    {
     "name": "stdout",
     "output_type": "stream",
     "text": [
      "[[ 2.09594704 -0.38625527 -0.07284253  0.36973553  0.76011205  1.52112582]\n",
      " [-1.07387089 -0.82825018 -0.0518901  -0.23005552  0.91632903 -0.20925233]\n",
      " [ 1.03920839 -0.51929545 -0.06178727 -0.16003305  0.29199261 -1.22783843]\n",
      " [-1.47812851 -1.42618434 -0.65946    -1.03896519  2.00980387 -0.48383873]\n",
      " [ 0.06388237  0.33536572 -0.70082539  0.59196698 -1.36841448 -0.51386654]\n",
      " [-0.10070528 -1.96941902 -0.08127213  0.76849711  0.17841816 -0.17400661]\n",
      " [ 0.21654837 -0.18183724  1.99781112 -1.60231587  0.04202593 -1.30937471]\n",
      " [-2.58448865 -1.07933852 -0.37285278  1.33716057  0.02629405  1.06203996]\n",
      " [-0.96595904  1.40968413 -0.33026731  1.40879247  1.23905667 -0.90094881]\n",
      " [ 0.27982937  1.09118663 -0.18303664 -0.81002585 -1.72357102 -0.50476144]\n",
      " [-0.04417045 -0.83347041 -2.37710876 -1.27239475 -1.60882936 -0.12370037]\n",
      " [ 1.16446672  0.42243643 -0.28606121  1.26632001  0.71260133  0.43644673]\n",
      " [-0.6747493  -1.42809057 -0.36085295  0.14103983 -0.17360081 -1.03680049]\n",
      " [-0.82066971 -0.65784639 -0.18436821  0.57450595  1.49512273 -0.62953782]\n",
      " [-0.31464649 -2.01394109 -0.07492918 -0.28328234 -0.90919786 -0.17763938]\n",
      " [ 0.03960753 -0.21531108 -0.59278742  0.25142305  0.84315734  0.23055355]]\n",
      "[11  1  2 13  3  7 12 15 10  9 14  5  4  6  8  0]\n"
     ]
    }
   ],
   "source": [
    "# 生成2维正态分布，可以是两类或多类数据\n",
    "x_data, y_data = make_gaussian_quantiles(n_samples=16, n_features=6, n_classes=16)\n",
    "\n",
    "# plt.scatter(x_data[:, 0], x_data[:, 1], c=y_data)\n",
    "print(x_data)\n",
    "print(y_data)\n",
    "# plt.show()"
   ]
  },
  {
   "cell_type": "code",
   "execution_count": 5,
   "id": "d77b6f16-0dad-4c2e-b2e8-57eb6badadca",
   "metadata": {},
   "outputs": [
    {
     "name": "stdout",
     "output_type": "stream",
     "text": [
      "2.5288592024803083\n",
      "[-0. -0. -0. -0. -0.  0.]\n"
     ]
    },
    {
     "data": {
      "text/plain": [
       "array([7.5])"
      ]
     },
     "execution_count": 5,
     "metadata": {},
     "output_type": "execute_result"
    }
   ],
   "source": [
    "model = linear_model.ElasticNetCV()\n",
    "model.fit(x_data, y_data)\n",
    "# 系弹性网数\n",
    "print(model.alpha_)\n",
    "# 相关系数\n",
    "print(model.coef_)\n",
    "\n",
    "model.predict(x_data[-2, np.newaxis])"
   ]
  },
  {
   "cell_type": "code",
   "execution_count": null,
   "id": "40ebf63d-f630-4c1b-b6d8-ac78211f298c",
   "metadata": {},
   "outputs": [],
   "source": []
  }
 ],
 "metadata": {
  "kernelspec": {
   "display_name": "Python 3 (ipykernel)",
   "language": "python",
   "name": "python3"
  },
  "language_info": {
   "codemirror_mode": {
    "name": "ipython",
    "version": 3
   },
   "file_extension": ".py",
   "mimetype": "text/x-python",
   "name": "python",
   "nbconvert_exporter": "python",
   "pygments_lexer": "ipython3",
   "version": "3.11.2"
  }
 },
 "nbformat": 4,
 "nbformat_minor": 5
}
