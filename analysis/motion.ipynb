{
 "cells": [
  {
   "cell_type": "code",
   "execution_count": 3,
   "metadata": {},
   "outputs": [
    {
     "ename": "ModuleNotFoundError",
     "evalue": "No module named 'wds'",
     "output_type": "error",
     "traceback": [
      "\u001b[1;31m---------------------------------------------------------------------------\u001b[0m",
      "\u001b[1;31mModuleNotFoundError\u001b[0m                       Traceback (most recent call last)",
      "Cell \u001b[1;32mIn[3], line 2\u001b[0m\n\u001b[0;32m      1\u001b[0m \u001b[39mimport\u001b[39;00m \u001b[39mcodecs\u001b[39;00m\n\u001b[1;32m----> 2\u001b[0m \u001b[39mimport\u001b[39;00m \u001b[39mwds\u001b[39;00m\n\u001b[0;32m      3\u001b[0m \u001b[39m# 分词后的数据集存放在data文件夹中data.seg1.txt里\u001b[39;00m\n\u001b[0;32m      4\u001b[0m target \u001b[39m=\u001b[39m codecs\u001b[39m.\u001b[39mopen(\u001b[39m'\u001b[39m\u001b[39m./emotion.txt\u001b[39m\u001b[39m'\u001b[39m, \u001b[39m'\u001b[39m\u001b[39mw\u001b[39m\u001b[39m'\u001b[39m, encoding\u001b[39m=\u001b[39m\u001b[39m'\u001b[39m\u001b[39mutf8\u001b[39m\u001b[39m'\u001b[39m)\n",
      "\u001b[1;31mModuleNotFoundError\u001b[0m: No module named 'wds'"
     ]
    }
   ],
   "source": [
    "import codecs\n",
    "import wds\n",
    "# 分词后的数据集存放在data文件夹中data.seg1.txt里\n",
    "target = codecs.open('./emotion.txt', 'w', encoding='utf8')\n",
    "# 待分词文档导入\n",
    "with open('./chinese_emotion.txt', 'rb') as f:\n",
    "    lineNum=1\n",
    "    line = f.readline()\n",
    "    # 逐行进行分词处理\n",
    "    while line:\n",
    "        seg_list = wds.cut(line, cut_all=False)\n",
    "        line_seg = ' '.join(seg_list)\n",
    "        target.writelines(line_seg)\n",
    "        lineNum = lineNum + 1\n",
    "        line = f.readline()\n",
    "    f.close()\n",
    "    target.close()"
   ]
  },
  {
   "cell_type": "code",
   "execution_count": null,
   "metadata": {},
   "outputs": [],
   "source": [
    "# 分词后的数据集存放在data文件夹中data.seg1.txt里\n",
    "target = codecs.open('./data/data.seg1.txt', 'w', encoding='utf8')\n",
    "# 待分词文档导入\n",
    "with open('./data/data.txt', 'rb') as f:\n",
    "    lineNum=1\n",
    "    line = f.readline()\n",
    "    # 逐行进行分词处理\n",
    "    while line:\n",
    "        seg_list = wds.cut(line, cut_all=False)\n",
    "        line_seg = ' '.join(seg_list)\n",
    "        target.writelines(line_seg)\n",
    "        lineNum = lineNum + 1\n",
    "        line = f.readline()\n",
    "    f.close()\n",
    "    target.close()"
   ]
  },
  {
   "cell_type": "code",
   "execution_count": null,
   "metadata": {},
   "outputs": [],
   "source": [
    "# 分词后的数据集存放在data文件夹中data.seg1.txt里\n",
    "target = codecs.open('./data/data.seg1.txt', 'w', encoding='utf8')\n",
    "# 待分词文档导入\n",
    "with open('./data/data.txt', 'rb') as f:\n",
    "    lineNum=1\n",
    "    line = f.readline()\n",
    "    # 逐行进行分词处理\n",
    "    while line:\n",
    "        seg_list = wds.cut(line, cut_all=False)\n",
    "        line_seg = ' '.join(seg_list)\n",
    "        target.writelines(line_seg)\n",
    "        lineNum = lineNum + 1\n",
    "        line = f.readline()\n",
    "    f.close()\n",
    "    target.close()"
   ]
  },
  {
   "cell_type": "code",
   "execution_count": null,
   "metadata": {},
   "outputs": [],
   "source": [
    "# 分词后的数据集存放在data文件夹中data.seg1.txt里\n",
    "target = codecs.open('./data/data.seg1.txt', 'w', encoding='utf8')\n",
    "# 待分词文档导入\n",
    "with open('./data/data.txt', 'rb') as f:\n",
    "    lineNum=1\n",
    "    line = f.readline()\n",
    "    # 逐行进行分词处理\n",
    "    while line:\n",
    "        seg_list = wds.cut(line, cut_all=False)\n",
    "        line_seg = ' '.join(seg_list)\n",
    "        target.writelines(line_seg)\n",
    "        lineNum = lineNum + 1\n",
    "        line = f.readline()\n",
    "    f.close()\n",
    "    target.close()"
   ]
  }
 ],
 "metadata": {
  "kernelspec": {
   "display_name": "Python 3",
   "language": "python",
   "name": "python3"
  },
  "language_info": {
   "codemirror_mode": {
    "name": "ipython",
    "version": 3
   },
   "file_extension": ".py",
   "mimetype": "text/x-python",
   "name": "python",
   "nbconvert_exporter": "python",
   "pygments_lexer": "ipython3",
   "version": "3.11.2"
  },
  "orig_nbformat": 4
 },
 "nbformat": 4,
 "nbformat_minor": 2
}
