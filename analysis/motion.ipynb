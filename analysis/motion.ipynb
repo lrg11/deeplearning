{
 "cells": [
  {
   "cell_type": "code",
   "execution_count": 1,
   "metadata": {},
   "outputs": [
    {
     "ename": "NameError",
     "evalue": "name 'codecs' is not defined",
     "output_type": "error",
     "traceback": [
      "\u001b[1;31m---------------------------------------------------------------------------\u001b[0m",
      "\u001b[1;31mNameError\u001b[0m                                 Traceback (most recent call last)",
      "Cell \u001b[1;32mIn[1], line 2\u001b[0m\n\u001b[0;32m      1\u001b[0m \u001b[39m# 分词后的数据集存放在data文件夹中data.seg1.txt里\u001b[39;00m\n\u001b[1;32m----> 2\u001b[0m target \u001b[39m=\u001b[39m codecs\u001b[39m.\u001b[39mopen(\u001b[39m'\u001b[39m\u001b[39m./data/data.seg1.txt\u001b[39m\u001b[39m'\u001b[39m, \u001b[39m'\u001b[39m\u001b[39mw\u001b[39m\u001b[39m'\u001b[39m, encoding\u001b[39m=\u001b[39m\u001b[39m'\u001b[39m\u001b[39mutf8\u001b[39m\u001b[39m'\u001b[39m)\n\u001b[0;32m      3\u001b[0m \u001b[39m# 待分词文档导入\u001b[39;00m\n\u001b[0;32m      4\u001b[0m \u001b[39mwith\u001b[39;00m \u001b[39mopen\u001b[39m(\u001b[39m'\u001b[39m\u001b[39m./data/data.txt\u001b[39m\u001b[39m'\u001b[39m, \u001b[39m'\u001b[39m\u001b[39mrb\u001b[39m\u001b[39m'\u001b[39m) \u001b[39mas\u001b[39;00m f:\n",
      "\u001b[1;31mNameError\u001b[0m: name 'codecs' is not defined"
     ]
    }
   ],
   "source": [
    "# 分词后的数据集存放在data文件夹中data.seg1.txt里\n",
    "target = codecs.open('./data/data.seg1.txt', 'w', encoding='utf8')\n",
    "# 待分词文档导入\n",
    "with open('./data/data.txt', 'rb') as f:\n",
    "    lineNum=1\n",
    "    line = f.readline()\n",
    "    # 逐行进行分词处理\n",
    "    while line:\n",
    "        seg_list = wds.cut(line, cut_all=False)\n",
    "        line_seg = ' '.join(seg_list)\n",
    "        target.writelines(line_seg)\n",
    "        lineNum = lineNum + 1\n",
    "        line = f.readline()\n",
    "    f.close()\n",
    "    target.close()"
   ]
  },
  {
   "cell_type": "code",
   "execution_count": null,
   "metadata": {},
   "outputs": [],
   "source": [
    "# 分词后的数据集存放在data文件夹中data.seg1.txt里\n",
    "target = codecs.open('./data/data.seg1.txt', 'w', encoding='utf8')\n",
    "# 待分词文档导入\n",
    "with open('./data/data.txt', 'rb') as f:\n",
    "    lineNum=1\n",
    "    line = f.readline()\n",
    "    # 逐行进行分词处理\n",
    "    while line:\n",
    "        seg_list = wds.cut(line, cut_all=False)\n",
    "        line_seg = ' '.join(seg_list)\n",
    "        target.writelines(line_seg)\n",
    "        lineNum = lineNum + 1\n",
    "        line = f.readline()\n",
    "    f.close()\n",
    "    target.close()"
   ]
  },
  {
   "cell_type": "code",
   "execution_count": null,
   "metadata": {},
   "outputs": [],
   "source": [
    "# 分词后的数据集存放在data文件夹中data.seg1.txt里\n",
    "target = codecs.open('./data/data.seg1.txt', 'w', encoding='utf8')\n",
    "# 待分词文档导入\n",
    "with open('./data/data.txt', 'rb') as f:\n",
    "    lineNum=1\n",
    "    line = f.readline()\n",
    "    # 逐行进行分词处理\n",
    "    while line:\n",
    "        seg_list = wds.cut(line, cut_all=False)\n",
    "        line_seg = ' '.join(seg_list)\n",
    "        target.writelines(line_seg)\n",
    "        lineNum = lineNum + 1\n",
    "        line = f.readline()\n",
    "    f.close()\n",
    "    target.close()"
   ]
  },
  {
   "cell_type": "code",
   "execution_count": null,
   "metadata": {},
   "outputs": [],
   "source": [
    "# 分词后的数据集存放在data文件夹中data.seg1.txt里\n",
    "target = codecs.open('./data/data.seg1.txt', 'w', encoding='utf8')\n",
    "# 待分词文档导入\n",
    "with open('./data/data.txt', 'rb') as f:\n",
    "    lineNum=1\n",
    "    line = f.readline()\n",
    "    # 逐行进行分词处理\n",
    "    while line:\n",
    "        seg_list = wds.cut(line, cut_all=False)\n",
    "        line_seg = ' '.join(seg_list)\n",
    "        target.writelines(line_seg)\n",
    "        lineNum = lineNum + 1\n",
    "        line = f.readline()\n",
    "    f.close()\n",
    "    target.close()"
   ]
  }
 ],
 "metadata": {
  "kernelspec": {
   "display_name": "Python 3",
   "language": "python",
   "name": "python3"
  },
  "language_info": {
   "codemirror_mode": {
    "name": "ipython",
    "version": 3
   },
   "file_extension": ".py",
   "mimetype": "text/x-python",
   "name": "python",
   "nbconvert_exporter": "python",
   "pygments_lexer": "ipython3",
   "version": "3.11.2"
  },
  "orig_nbformat": 4
 },
 "nbformat": 4,
 "nbformat_minor": 2
}
